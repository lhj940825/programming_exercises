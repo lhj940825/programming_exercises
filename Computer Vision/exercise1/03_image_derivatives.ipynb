{
 "cells": [
  {
   "cell_type": "markdown",
   "metadata": {},
   "source": [
    "# Image Derivatives\n",
    "This exercise introduces image derivative operators."
   ]
  },
  {
   "cell_type": "code",
   "execution_count": null,
   "metadata": {},
   "outputs": [],
   "source": [
    "%matplotlib notebook\n",
    "import numpy as np\n",
    "import matplotlib.pyplot as plt\n",
    "import matplotlib.image as mpimg\n",
    "import cv2\n",
    "from scipy import ndimage"
   ]
  },
  {
   "cell_type": "markdown",
   "metadata": {},
   "source": [
    "## Some Convenience Functions."
   ]
  },
  {
   "cell_type": "code",
   "execution_count": null,
   "metadata": {},
   "outputs": [],
   "source": [
    "def convolve_with_two(image, kernel1, kernel2):\n",
    "    \"\"\"Apply two filters, one after the other.\"\"\"\n",
    "    image = ndimage.convolve(image, kernel1)\n",
    "    image = ndimage.convolve(image, kernel2)   \n",
    "    return image\n",
    "\n",
    "def imread_gray(filename):\n",
    "    \"\"\"Read grayscale image.\"\"\"\n",
    "    return cv2.imread(filename, cv2.IMREAD_GRAYSCALE).astype(np.float32)\n",
    "\n",
    "def plot_multiple(images, titles, colormap='gray', max_columns=np.inf, share_axes=True):\n",
    "    \"\"\"Plot multiple images as subplots on a grid.\"\"\"\n",
    "    assert len(images) == len(titles)\n",
    "    n_images = len(images)\n",
    "    n_cols = min(max_columns, n_images)\n",
    "    n_rows = int(np.ceil(n_images / n_cols))\n",
    "    fig, axes = plt.subplots(\n",
    "        n_rows, n_cols, figsize=(n_cols * 4, n_rows * 4),\n",
    "        squeeze=False, sharex=share_axes, sharey=share_axes)\n",
    "\n",
    "    axes = axes.flat\n",
    "    # Hide subplots without content\n",
    "    for ax in axes[n_images:]:\n",
    "        ax.axis('off')\n",
    "        \n",
    "    if not isinstance(colormap, (list,tuple)):\n",
    "        colormaps = [colormap]*n_images\n",
    "    else:\n",
    "        colormaps = colormap\n",
    "\n",
    "    for ax, image, title, cmap in zip(axes, images, titles, colormaps):\n",
    "        ax.imshow(image, cmap=cmap)\n",
    "        ax.set_title(title)\n",
    "        \n",
    "    fig.tight_layout()"
   ]
  },
  {
   "cell_type": "code",
   "execution_count": null,
   "metadata": {
    "deletable": false,
    "nbgrader": {
     "cell_type": "code",
     "checksum": "884a5548af6a998ab5b79fe7a5e04342",
     "grade": true,
     "grade_id": "cell-b5a8071f51676cc3",
     "locked": false,
     "points": 0,
     "schema_version": 3,
     "solution": true,
     "task": false
    }
   },
   "outputs": [],
   "source": [
    "# From Question 1: Gaussian Filtering\n",
    "def gauss(x, sigma):\n",
    "    # YOUR CODE HERE\n",
    "    raise NotImplementedError()"
   ]
  },
  {
   "cell_type": "markdown",
   "metadata": {},
   "source": [
    "## Part a\n",
    "Implement a function for creating a Gaussian derivative filter in 1D according to the following equation\n",
    "$$\n",
    "\\begin{eqnarray}\n",
    "    \\frac{d}{dx} G &=& \\frac{d}{dx} \\frac{1}{\\sqrt{2\\pi}\\sigma} \\operatorname{exp}\\biggl(-\\frac{x^2}{2\\sigma^2}\\biggr) \\\\\n",
    "\t\t\t       &=& -\\frac{1}{\\sqrt{2\\pi}\\sigma^3}x \\operatorname{exp}\\biggl(-\\frac{x^2}{2\\sigma^2}\\biggr)\n",
    "\\end{eqnarray}\n",
    "$$\n",
    "Your function should take a vector of integer values $x$ and the standard deviation ``sigma`` as arguments."
   ]
  },
  {
   "cell_type": "code",
   "execution_count": null,
   "metadata": {
    "deletable": false,
    "nbgrader": {
     "cell_type": "code",
     "checksum": "f2f2bddc73cf105ca40cfff8ba804f0b",
     "grade": true,
     "grade_id": "cell-71bddd28f48b6637",
     "locked": false,
     "points": 0,
     "schema_version": 3,
     "solution": true,
     "task": false
    }
   },
   "outputs": [],
   "source": [
    "def gaussdx(x, sigma):\n",
    "    # YOUR CODE HERE\n",
    "    raise NotImplementedError()"
   ]
  },
  {
   "cell_type": "code",
   "execution_count": null,
   "metadata": {},
   "outputs": [],
   "source": [
    "x = np.linspace(-5, 5, 100)\n",
    "y = gaussdx(x, sigma=1.0)\n",
    "fig, ax = plt.subplots()\n",
    "ax.plot(x, y)\n",
    "fig.tight_layout()"
   ]
  },
  {
   "cell_type": "markdown",
   "metadata": {},
   "source": [
    "The effect of a filter can be studied by observing its so-called *impulse response*.\n",
    "For this, create a test image in which only the central pixel has a non-zero value (called an *impulse*):"
   ]
  },
  {
   "cell_type": "code",
   "execution_count": null,
   "metadata": {
    "deletable": false,
    "nbgrader": {
     "cell_type": "code",
     "checksum": "0e345e2abd54bfb2a4c331df81e6aa2e",
     "grade": true,
     "grade_id": "cell-d7885b56a66a5a1c",
     "locked": false,
     "points": 0,
     "schema_version": 3,
     "solution": true,
     "task": false
    }
   },
   "outputs": [],
   "source": [
    "# YOUR CODE HERE\n",
    "raise NotImplementedError()"
   ]
  },
  {
   "cell_type": "markdown",
   "metadata": {},
   "source": [
    "Now, we create the following 1D filter kernels ``gaussian`` and ``derivative``."
   ]
  },
  {
   "cell_type": "code",
   "execution_count": null,
   "metadata": {},
   "outputs": [],
   "source": [
    "sigma = 6.0\n",
    "kernel_radius = int(3.0 * sigma)\n",
    "x = np.arange(-kernel_radius, kernel_radius + 1)[np.newaxis]\n",
    "G = gauss(x, sigma)\n",
    "D = gaussdx(x, sigma)"
   ]
  },
  {
   "cell_type": "markdown",
   "metadata": {},
   "source": [
    "What happens when you apply the following filter combinations?\n",
    "\n",
    "- first ``gaussian``, then ``gaussian^T``.\n",
    "- first ``gaussian``, then ``derivative^T``.\n",
    "- first ``derivative``, then ``gaussian^T``.\n",
    "- first ``gaussian^T``, then ``derivative``.\n",
    "- first ``derivative^T``, then ``gaussian``.\n",
    "\n",
    "Display the result images with the `plot_multiple` function. Describe your result."
   ]
  },
  {
   "cell_type": "code",
   "execution_count": null,
   "metadata": {},
   "outputs": [],
   "source": [
    "images = [\n",
    "    impulse,\n",
    "    convolve_with_two(impulse, G, G.T),\n",
    "    convolve_with_two(impulse, G, D.T),\n",
    "    convolve_with_two(impulse, D, G.T),\n",
    "    convolve_with_two(impulse, G.T, D),\n",
    "    convolve_with_two(impulse, D.T, G)]\n",
    "\n",
    "titles = [\n",
    "    'original',\n",
    "    'first G, then G^T',\n",
    "    'first G, then D^T',\n",
    "    'first D, then G^T',\n",
    "    'first G^T, then D',\n",
    "    'first D^T, then G']\n",
    "\n",
    "plot_multiple(images, titles, max_columns=3)"
   ]
  },
  {
   "cell_type": "markdown",
   "metadata": {},
   "source": [
    "## Part b\n",
    "\n",
    "Use the functions ``gauss`` and ``gaussdx`` directly in order to create a new function ``gaussderiv`` that returns the 2D Gaussian derivatives of an input image in $x$ and $y$ direction."
   ]
  },
  {
   "cell_type": "code",
   "execution_count": null,
   "metadata": {
    "deletable": false,
    "nbgrader": {
     "cell_type": "code",
     "checksum": "0ca98ac2b7a145e0e28f2ebad624a049",
     "grade": true,
     "grade_id": "cell-c1dbe176a9830345",
     "locked": false,
     "points": 0,
     "schema_version": 3,
     "solution": true,
     "task": false
    }
   },
   "outputs": [],
   "source": [
    "def gauss_derivs(image, sigma):\n",
    "    kernel_radius = int(3.0 * sigma)\n",
    "    # YOUR CODE HERE\n",
    "    raise NotImplementedError()\n",
    "    return image_dx, image_dy"
   ]
  },
  {
   "cell_type": "markdown",
   "metadata": {},
   "source": [
    "Try the function on the given example images and describe your results."
   ]
  },
  {
   "cell_type": "code",
   "execution_count": null,
   "metadata": {},
   "outputs": [],
   "source": [
    "image = imread_gray('tomatoes.png')\n",
    "grad_dx, grad_dy = gauss_derivs(image, sigma=5.0)\n",
    "plot_multiple([image, grad_dx, grad_dy], ['Image', 'Derivative in x-direction', 'Derivative in y-direction'])"
   ]
  },
  {
   "cell_type": "markdown",
   "metadata": {},
   "source": [
    "In a similar manner, create a new function ``gauss_second_derivs`` that returns the 2D second Gaussian derivatives $\\frac{d^2}{dx^2}$, $\\frac{d^2}{dx dy}$ and $\\frac{d^2}{dy^2}$ of an input image."
   ]
  },
  {
   "cell_type": "code",
   "execution_count": null,
   "metadata": {
    "deletable": false,
    "nbgrader": {
     "cell_type": "code",
     "checksum": "1884d5239bc363c7affd5f48b26e4795",
     "grade": true,
     "grade_id": "cell-fca3722dfbb99335",
     "locked": false,
     "points": 0,
     "schema_version": 3,
     "solution": true,
     "task": false
    }
   },
   "outputs": [],
   "source": [
    "def gauss_second_derivs(image, sigma):\n",
    "    kernel_radius = int(3.0 * sigma)\n",
    "    # YOUR CODE HERE\n",
    "    raise NotImplementedError()\n",
    "    \n",
    "    return image_dxx, image_dxy, image_dyy"
   ]
  },
  {
   "cell_type": "markdown",
   "metadata": {},
   "source": [
    "Try the function on the given example images and describe your results."
   ]
  },
  {
   "cell_type": "code",
   "execution_count": null,
   "metadata": {},
   "outputs": [],
   "source": [
    "image = imread_gray('coins1.jpg')\n",
    "grad_dxx, grad_dxy, grad_dyy = gauss_second_derivs(image, sigma=2.0)\n",
    "plot_multiple([image, grad_dxx, grad_dxy, grad_dyy], ['Image', 'Dxx', 'Dxy','Dyy'])"
   ]
  },
  {
   "cell_type": "code",
   "execution_count": null,
   "metadata": {},
   "outputs": [],
   "source": [
    "image = imread_gray('circuit.png')\n",
    "grad_dxx, grad_dxy, grad_dyy = gauss_second_derivs(image, sigma=2.0)\n",
    "plot_multiple([image, grad_dxx, grad_dxy, grad_dyy], ['Image', 'Dxx', 'Dxy','Dyy'])"
   ]
  },
  {
   "cell_type": "markdown",
   "metadata": {},
   "source": [
    "## Part c\n",
    "Create a new function ``image_gradients_polar`` that returns two images with the magnitude and orientation of the gradient for each pixel of the input image."
   ]
  },
  {
   "cell_type": "code",
   "execution_count": null,
   "metadata": {
    "deletable": false,
    "nbgrader": {
     "cell_type": "code",
     "checksum": "339199164b9a67e2f97114927ea4aaa0",
     "grade": true,
     "grade_id": "cell-8a07e53b0fe692ef",
     "locked": false,
     "points": 0,
     "schema_version": 3,
     "solution": true,
     "task": false
    }
   },
   "outputs": [],
   "source": [
    "def image_gradients_polar(image, sigma):\n",
    "    # YOUR CODE HERE\n",
    "    raise NotImplementedError()\n",
    "    return magnitude, direction"
   ]
  },
  {
   "cell_type": "markdown",
   "metadata": {},
   "source": [
    "Try the function on the given example images and describe your results."
   ]
  },
  {
   "cell_type": "code",
   "execution_count": null,
   "metadata": {},
   "outputs": [],
   "source": [
    "image = imread_gray('coins1.jpg')\n",
    "grad_mag, grad_dir = image_gradients_polar(image, sigma=2.0)\n",
    "\n",
    "# Note: the twilight colormap only works since Matplotlib 3.0, use 'gray' in earlier versions.\n",
    "plot_multiple([image, grad_mag, grad_dir], ['Image', 'Magnitude', 'Direction'], colormap=['gray', 'gray', 'twilight']) "
   ]
  },
  {
   "cell_type": "code",
   "execution_count": null,
   "metadata": {},
   "outputs": [],
   "source": [
    "image = imread_gray('circuit.png')\n",
    "grad_mag, grad_theta = image_gradients_polar(image, sigma=2.0)\n",
    "plot_multiple([image, grad_mag, grad_theta], ['Image', 'Magnitude', 'Direction'], colormap=['gray', 'gray', 'twilight'])"
   ]
  },
  {
   "cell_type": "markdown",
   "metadata": {},
   "source": [
    "## Part d\n",
    "Create a new function ``laplace`` that returns an image with the Laplacian-of-Gaussian for each pixel of the input image."
   ]
  },
  {
   "cell_type": "code",
   "execution_count": null,
   "metadata": {
    "deletable": false,
    "nbgrader": {
     "cell_type": "code",
     "checksum": "2f0172aa985cd9f7f6d382b65f438050",
     "grade": true,
     "grade_id": "cell-9cc2af0d4458b852",
     "locked": false,
     "points": 0,
     "schema_version": 3,
     "solution": true,
     "task": false
    }
   },
   "outputs": [],
   "source": [
    "def laplace(image, sigma):\n",
    "    # YOUR CODE HERE\n",
    "    raise NotImplementedError()"
   ]
  },
  {
   "cell_type": "markdown",
   "metadata": {},
   "source": [
    "Try the function on the given example images and describe your results."
   ]
  },
  {
   "cell_type": "code",
   "execution_count": null,
   "metadata": {},
   "outputs": [],
   "source": [
    "image = imread_gray('coins1.jpg')\n",
    "lap = laplace(image, sigma=2.0)\n",
    "plot_multiple([image, lap], ['Image', 'Laplace'])"
   ]
  },
  {
   "cell_type": "code",
   "execution_count": null,
   "metadata": {},
   "outputs": [],
   "source": [
    "image = imread_gray('circuit.png')\n",
    "lap = laplace(image, sigma=2.0)\n",
    "plot_multiple([image, lap], ['Image', 'Laplace'])"
   ]
  },
  {
   "cell_type": "code",
   "execution_count": null,
   "metadata": {},
   "outputs": [],
   "source": []
  }
 ],
 "metadata": {
  "kernelspec": {
   "display_name": "Python 3",
   "language": "python",
   "name": "python3"
  },
  "language_info": {
   "codemirror_mode": {
    "name": "ipython",
    "version": 3
   },
   "file_extension": ".py",
   "mimetype": "text/x-python",
   "name": "python",
   "nbconvert_exporter": "python",
   "pygments_lexer": "ipython3",
   "version": "3.6.10"
  }
 },
 "nbformat": 4,
 "nbformat_minor": 2
}
