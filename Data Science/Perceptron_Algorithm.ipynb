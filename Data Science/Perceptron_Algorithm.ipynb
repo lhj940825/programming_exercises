{
 "cells": [
  {
   "cell_type": "code",
   "execution_count": 35,
   "metadata": {
    "pycharm": {
     "is_executing": false,
     "name": "#%%\n"
    }
   },
   "outputs": [],
   "source": [
    "#Hojun Lim\n",
    "import numpy as np\n",
    "import pprint as pp\n",
    "import matplotlib.pyplot as plt\n"
   ]
  },
  {
   "cell_type": "markdown",
   "metadata": {},
   "source": [
    "# Exercise 12.2 Play with the Perceptron Algorithm\n",
    "## 12.2.1) Pick a vector $$w^{*} ∈R^2$$. Pick 1000 random points $$x_{i}$$ uniformly  distributed in $$[−100,100]^{2} ⊂ R^{2}$$ with $$|〈w∗x〉| ≥1 $$ and compute labels $$\\\\$$  $$ℓi← $$ $$sign(〈w∗xi〉) ∈ [−1,+1]$$. \n",
    " \n",
    "#### (a) run the perceptron algorithm with kernel function $$k(x,y) = x \\cdot y$$. "
   ]
  },
  {
   "cell_type": "code",
   "execution_count": 18,
   "metadata": {},
   "outputs": [],
   "source": [
    "def perceptron_algorithm(x, label, n, kernel): # n denotes the number of data points\n",
    "    update_cnt = 0\n",
    "    c = np.zeros((n,1)) # coefficients of vector w starts with zero \n",
    "    w = np.zeros((2,1))\n",
    "    while(True):\n",
    "\n",
    "        if all(kernel(x, w)*label > 0): # when all points are classified correctly with normal vector w\n",
    "            break\n",
    "            \n",
    "\n",
    "        for idx in np.where(kernel(x, w)*label <= 0)[0]: # when the condition is violated\n",
    "\n",
    "            c[idx] = c[idx] + label[idx] # update the coefficient\n",
    "            update_cnt += 1\n",
    "            \n",
    "        w = np.matmul(x.T, c) # compute the normal vector w based on given data x and coefficients c \n",
    "\n",
    "    return w, update_cnt\n",
    "    \n",
    "    \n",
    "def inner_product_kernel(x, w):\n",
    "    return np.matmul(x, w)\n",
    "\n"
   ]
  },
  {
   "cell_type": "code",
   "execution_count": 28,
   "metadata": {
    "pycharm": {
     "is_executing": false,
     "name": "#%%\n"
    }
   },
   "outputs": [
    {
     "name": "stdout",
     "output_type": "stream",
     "text": [
      "error 1000\n",
      "error 7\n",
      "error 2\n",
      "error 2\n",
      "error 1\n",
      "w_star:\n",
      "array([[0.99823519],\n",
      "       [0.05938444]])\n",
      "computed w:\n",
      "array([[0.9989943 ],\n",
      "       [0.04483738]])\n"
     ]
    }
   ],
   "source": [
    "w_star = np.random.uniform(size=(2,1))# samples the normal w\n",
    "w_star = w_star/np.linalg.norm(w_star) # renormalize the sampled w_star to ensure its length = 1\n",
    "\n",
    "n = 1000 # number of points \n",
    "xy_min = [-100, -100] # minimum value for x and y coordinates\n",
    "xy_max = [100, 100] # maximum value for x and y coordinates\n",
    "x = np.random.uniform(low=xy_min, high=xy_max, size=(n,2)) # sampled data points\n",
    "\n",
    "w_star_dot_w = np.matmul(x,w_star) # compute <w_star | x>\n",
    "abs_w_star_dot_w = abs(w_star_dot_w) # abs(<w_star | x>)\n",
    "\n",
    "while(True): #extract indicies where abs(<w_star| x_{i}>) is smaller than 1\n",
    "\n",
    "    for idx in np.where(abs_w_star_dot_w < 1): # resample and compute the < w_star | x > until all points has abs(< w_star | x >) >1\n",
    "        x[idx] = np.random.uniform(low=xy_min, high=xy_max, size=(1,2))\n",
    "        abs_w_star_dot_w[idx] = abs(np.matmul(x[idx], w_star))\n",
    "        \n",
    "    if all(abs_w_star_dot_w>1):\n",
    "        break        \n",
    "\n",
    "label = np.sign(np.matmul(x, w_star)) # assign labels to respective data points x\n",
    "\n",
    "w, update_cnt = perceptron_algorithm(x, label, n, kernel = inner_product_kernel)\n",
    "print('w_star:')\n",
    "pp.pprint(w_star)\n",
    "print('computed w:')\n",
    "pp.pprint(w/np.linalg.norm(w))\n",
    "\n",
    "\n"
   ]
  },
  {
   "cell_type": "markdown",
   "metadata": {},
   "source": [
    "\n"
   ]
  },
  {
   "cell_type": "markdown",
   "metadata": {},
   "source": [
    "#### (b) report about your experiences\n",
    "-> It seems the perceptron algorithm can find the true normal vector w*. and unlike expected the actual number of updates is considerably smaller than the number of updates in the bound from lecture.\n",
    "#### (c) the bound of number of updates in theory: $$r^{2} \\vert\\vert\\; |w^{*}>\\vert\\vert^{2}_{2}$$\n"
   ]
  },
  {
   "cell_type": "code",
   "execution_count": 29,
   "metadata": {},
   "outputs": [
    {
     "name": "stdout",
     "output_type": "stream",
     "text": [
      "bound of the number of updates in theory =  19616.070140116957\n",
      "Actual number of updates in (a) =  1012\n"
     ]
    }
   ],
   "source": [
    "norm_x = np.linalg.norm(x, axis=1)\n",
    "max_idx = np.argmax(norm_x)\n",
    "r = norm_x[max_idx]\n",
    "\n",
    "update_bound = np.square(r)*np.square(np.linalg.norm(w_star))\n",
    "print('bound of the number of updates in theory = ', update_bound)\n",
    "\n",
    "print('Actual number of updates in (a) = ', update_cnt)"
   ]
  },
  {
   "cell_type": "markdown",
   "metadata": {},
   "source": [
    "## 12.2.2) Pick 1000 random points [rcosφ, rsinφ] with r ∈ [0.8,1.2]∪[1.6,2.4] uni-formly chosen andφ∈[0,2π] uniformly chosen and label−1 for r ≤ 1.2 and label +1 for r ≥1.6\n",
    "\n",
    "#### (a) Run the perceptron algorithm with the Gaussian kernel."
   ]
  },
  {
   "cell_type": "code",
   "execution_count": 67,
   "metadata": {},
   "outputs": [],
   "source": [
    "interval_A_min = 0.8 \n",
    "interval_A_max = 1.2 \n",
    "interval_B_min = 1.6\n",
    "interval_B_max = 2.4 \n",
    "pi_min = 0\n",
    "pi_max = 2*np.pi\n",
    "\n",
    "\n",
    "rand = np.random.uniform(0,1,n)\n",
    "labels = np.asarray([-1 if rand_value < 0.33333 else 1 for rand_value in rand]) # if rand_value is smaller than 0.6666 extract values for r from the interval 'A': [0.8, 1.2] otherwise from interval 'B': [1.6, 2.4] \n",
    "labels = np.reshape(labels, (n,-1))\n",
    "r = [np.random.uniform(interval_A_min, interval_A_max) if label==-1 else np.random.uniform(interval_B_min, interval_B_max) for label in labels]\n",
    "pi = np.random.uniform(pi_min, pi_max, n)\n",
    "\n",
    "\n",
    "# make the data points x\n",
    "x = []\n",
    "for i in range(n): \n",
    "    x.append([r[i]*np.cos(pi[i]), r[i]*np.sin(pi[i])])\n",
    "x = np.reshape(np.asarray(x), (n,-1))\n"
   ]
  },
  {
   "cell_type": "code",
   "execution_count": 68,
   "metadata": {},
   "outputs": [],
   "source": [
    "def perceptron_algorithm_with_gaussian_kernel(x, label, n, kernel): # n denotes the number of data points\n",
    "    update_cnt = 0\n",
    "    c = np.zeros((n,1)) # coefficients of vector w starts with zero \n",
    "    w = np.zeros((2,1))\n",
    "    while(True):\n",
    "\n",
    "#        print(np.shape(label), np.shape(kernel(x,c)))\n",
    "        if all(kernel(x, c)*label > 0): # when all points are classified correctly with normal vector w\n",
    "            break\n",
    "            \n",
    "#        print(len(np.where(kernel(x, c)*label <= 0)[0]))\n",
    "        for idx in np.where(kernel(x, c)*label <= 0)[0]: # when the condition is violated\n",
    "            c[idx] = c[idx] + label[idx] # update the coefficient\n",
    "            update_cnt += 1\n",
    "            \n",
    "#        w = np.matmul(x.T, c) # compute the normal vector w based on given data x and coefficients c \n",
    "#        print(w)\n",
    "    return c, update_cnt\n",
    "    \n",
    "\n",
    "\n",
    "    \n",
    "def gaussian_kernel(x, c):\n",
    "    const = 1\n",
    "    \n",
    "    # build the gram matrix\n",
    "    Gram_matrix = np.zeros((n,n))\n",
    "    for i in range(n):\n",
    "        for j in range(n):\n",
    "            Gram_matrix[i][j] = np.exp(-1*const*np.square(np.linalg.norm(x[i] - x[j]))) # gram matrix with gaussian kernel\n",
    "    \n",
    "    \n",
    "    return np.matmul(Gram_matrix, c)\n",
    "\n",
    "    \n",
    "c, update_cnt = perceptron_algorithm_with_gaussian_kernel(x, labels, n, gaussian_kernel)\n",
    "#print('computed coefficients with gaussian kernel:' , c)\n",
    "predictions = gaussian_kernel(x, c)\n"
   ]
  },
  {
   "cell_type": "markdown",
   "metadata": {},
   "source": [
    "#### (b) Report the result"
   ]
  },
  {
   "cell_type": "code",
   "execution_count": 69,
   "metadata": {},
   "outputs": [
    {
     "data": {
      "image/png": "[encoded data removed]",
      "text/plain": [
       "<Figure size 432x288 with 1 Axes>"
      ]
     },
     "metadata": {
      "needs_background": "light"
     },
     "output_type": "display_data"
    }
   ],
   "source": [
    "class_A = x[np.where(predictions >= 1)[0]] # class A denotes the label '1'\n",
    "class_B = x[np.where(predictions <= -1)[0]]  # class B denotes the label '-1'\n",
    "\n",
    "plt.scatter(class_A[:,0], class_A[:,1], label='1')\n",
    "plt.scatter(class_B[:,0], class_B[:,1], label='-1')\n",
    "plt.legend()\n",
    "plt.show()"
   ]
  },
  {
   "cell_type": "markdown",
   "metadata": {},
   "source": [
    "## 12.2.3) Pick 1000 random points [1+ rcosφ, 1+ rsinφ] with r ∈ [0.8,1.2]∪[1.6,2.4] uni-formly chosen andφ∈[0,2π] uniformly chosen and label−1 for r ≤ 1.2 and label +1 for r ≥1.6\n",
    "\n",
    "#### (a) Run the perceptron algorithm with the Gaussian kernel."
   ]
  },
  {
   "cell_type": "code",
   "execution_count": 70,
   "metadata": {},
   "outputs": [],
   "source": [
    "# update the data points x\n",
    "x = []\n",
    "for i in range(n): \n",
    "    x.append([1+ r[i]*np.cos(pi[i]), 1+ r[i]*np.sin(pi[i])])\n",
    "x = np.reshape(np.asarray(x), (n,-1))\n",
    "\n",
    "c, update_cnt = perceptron_algorithm_with_gaussian_kernel(x, labels, n, gaussian_kernel)\n",
    "#print('computed coefficients with gaussian kernel:' , c)\n",
    "predictions = gaussian_kernel(x, c)"
   ]
  },
  {
   "cell_type": "markdown",
   "metadata": {},
   "source": [
    "#### (b) Report the result"
   ]
  },
  {
   "cell_type": "code",
   "execution_count": 71,
   "metadata": {},
   "outputs": [
    {
     "data": {
      "image/png": "[encoded data removed]",
      "text/plain": [
       "<Figure size 432x288 with 1 Axes>"
      ]
     },
     "metadata": {
      "needs_background": "light"
     },
     "output_type": "display_data"
    }
   ],
   "source": [
    "class_A = x[np.where(predictions >= 1)[0]] # class A denotes the label '1'\n",
    "class_B = x[np.where(predictions <= -1)[0]]  # class B denotes the label '-1'\n",
    "\n",
    "plt.scatter(class_A[:,0], class_A[:,1], label='1')\n",
    "plt.scatter(class_B[:,0], class_B[:,1], label='-1')\n",
    "plt.legend()\n",
    "plt.show()"
   ]
  },
  {
   "cell_type": "code",
   "execution_count": null,
   "metadata": {},
   "outputs": [],
   "source": []
  }
 ],
 "metadata": {
  "kernelspec": {
   "display_name": "Python 3",
   "language": "python",
   "name": "python3"
  },
  "language_info": {
   "codemirror_mode": {
    "name": "ipython",
    "version": 3
   },
   "file_extension": ".py",
   "mimetype": "text/x-python",
   "name": "python",
   "nbconvert_exporter": "python",
   "pygments_lexer": "ipython3",
   "version": "3.7.5"
  },
  "pycharm": {
   "stem_cell": {
    "cell_type": "raw",
    "metadata": {
     "collapsed": false
    },
    "source": []
   }
  }
 },
 "nbformat": 4,
 "nbformat_minor": 1
}
