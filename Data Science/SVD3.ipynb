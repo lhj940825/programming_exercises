{
 "cells": [
  {
   "cell_type": "code",
   "execution_count": 28,
   "metadata": {
    "collapsed": true,
    "pycharm": {
     "is_executing": false
    }
   },
   "outputs": [],
   "source": [
    "'''\n",
    " * User: Hojun Lim\n",
    " * Date: 2020-06-18\n",
    "'''\n",
    "\n",
    "import numpy as np\n",
    "import pprint as pp\n",
    "import scipy"
   ]
  },
  {
   "cell_type": "code",
   "execution_count": 18,
   "metadata": {
    "pycharm": {
     "is_executing": false,
     "name": "#%%\n"
    }
   },
   "outputs": [
    {
     "name": "stdout",
     "output_type": "stream",
     "text": [
      "array([[ 0.486,  0.673,  0.651,  0.154,  0.001],\n",
      "       [ 0.551,  0.781,  0.608, -0.195, -0.104],\n",
      "       [ 0.323,  0.458,  0.35 , -0.13 , -0.065],\n",
      "       [ 0.58 ,  0.809,  0.744,  0.089, -0.026],\n",
      "       [-0.065, -0.13 ,  0.219,  0.847,  0.245],\n",
      "       [ 0.192,  0.22 ,  0.613,  1.067,  0.284],\n",
      "       [-0.065, -0.13 ,  0.219,  0.847,  0.245],\n",
      "       [-0.104, -0.196,  0.259,  1.092,  0.318]])\n"
     ]
    }
   ],
   "source": [
    "A = np.array([[1,0,1,0,0],\n",
    "              [1,1,0,0,0],\n",
    "              [0,1,0,0,0],\n",
    "              [0,1,1,0,0],\n",
    "              [0,0,0,1,0],\n",
    "              [0,0,1,1,0],\n",
    "              [0,0,0,1,0],\n",
    "              [0,0,0,1,1]])\n",
    "\n",
    "\n",
    "u, sv, v = np.linalg.svd(A, full_matrices=False) # u, sv, v = left singular vector, singular values, right singular vector\n",
    "\n",
    "u1 = np.reshape(u[:,0],(-1,1))\n",
    "sv1 = sv[0]\n",
    "v1 = np.reshape(v[0,:], (1,-1))\n",
    "\n",
    "u2 = np.reshape(u[:,1],(-1,1))\n",
    "sv2 = sv[1]\n",
    "v2 = np.reshape(v[1,:], (1,-1))\n",
    "\n",
    "#Exercise 9.1.1\n",
    "A2 = sv1*np.matmul(u1,v1) + sv2*np.matmul(u2,v2) # A2 = 2 truncated A\n",
    "np.set_printoptions(suppress=True)\n",
    "pp.pprint(np.round(A2, decimals=3))\n"
   ]
  },
  {
   "cell_type": "code",
   "execution_count": 24,
   "metadata": {
    "pycharm": {
     "is_executing": false,
     "name": "#%%\n"
    }
   },
   "outputs": [
    {
     "name": "stdout",
     "output_type": "stream",
     "text": [
      "A^{T} y = :\n",
      "array([[0. ],\n",
      "       [0.5],\n",
      "       [1. ],\n",
      "       [0.5],\n",
      "       [0. ]])\n",
      "\n",
      "A2^{T} y = :\n",
      "array([[0.38638611],\n",
      "       [0.51428595],\n",
      "       [0.67825179],\n",
      "       [0.57779359],\n",
      "       [0.12898205]])\n"
     ]
    }
   ],
   "source": [
    "#Exercise 9.1.2\n",
    "\n",
    "y = np.reshape(np.array([0,0,0,0.5,0,0.5,0,0]),(-1,1))\n",
    "print('A^{T} y = :')\n",
    "pp.pprint(np.matmul(A.T, y))\n",
    "print()\n",
    "print('A2^{T} y = :')\n",
    "pp.pprint(np.matmul(A2.T, y))"
   ]
  },
  {
   "cell_type": "code",
   "execution_count": 27,
   "metadata": {
    "pycharm": {
     "is_executing": false,
     "name": "#%%\n"
    }
   },
   "outputs": [
    {
     "name": "stdout",
     "output_type": "stream",
     "text": [
      "The Error: norm(A-A2) =  1.9329446892818882\n",
      "The upper bound of Error (A- AK) is k-th singlular value, and the Error when K = 2 is  2.2852979298701865\n"
     ]
    }
   ],
   "source": [
    "#Exercise 9.1.3\n",
    "print('The Error: norm(A-A2) = ', np.linalg.norm(A-A2))\n",
    "print('The upper bound of Error (A- AK) is k-th singlular value, and the Error when K = 2 is ', sv1)"
   ]
  },
  {
   "cell_type": "code",
   "execution_count": 34,
   "metadata": {
    "pycharm": {
     "is_executing": false,
     "name": "#%%\n"
    }
   },
   "outputs": [
    {
     "name": "stdout",
     "output_type": "stream",
     "text": [
      "F-norm of A-B = \n",
      "2.449489742783178\n",
      "L2-norm of A-B = \n",
      "1.902113032590307\n",
      "F-norm of A-A2 = \n",
      "1.9329446892818882\n",
      "L2-norm of A-A2 = \n",
      "1.3606993083324652\n"
     ]
    }
   ],
   "source": [
    "# Exercise 9.1.4\n",
    "B = np.array([[0,0,0,0,0],\n",
    "              [0,1,0,0,0],\n",
    "              [0,1,0,0,0],\n",
    "              [0,1,0,0,0],\n",
    "              [0,0,0,1,0],\n",
    "              [0,0,0,1,0],\n",
    "              [0,0,0,1,0],\n",
    "              [0,0,0,1,0]])\n",
    "\n",
    "A_sub_B = A-B\n",
    "F_norm_A_sub_B = np.sqrt(np.sum(np.square(A_sub_B)))\n",
    "L2_norm_A_sub_B =np.linalg.norm(A_sub_B, ord=2) #2-norm of a matrix\n",
    "print('F-norm of A-B = ')\n",
    "pp.pprint(F_norm_A_sub_B)\n",
    "print('L2-norm of A-B = ')\n",
    "pp.pprint(L2_norm_A_sub_B)\n",
    "\n",
    "A_sub_A2 = A-A2\n",
    "F_norm_A_sub_A2 = np.sqrt(np.sum(np.square(A_sub_A2)))\n",
    "L2_norm_A_sub_A2 = np.linalg.norm(A_sub_A2, ord=2) #2-norm of a matrix\n",
    "print('F-norm of A-A2 = ')\n",
    "pp.pprint(F_norm_A_sub_A2)\n",
    "print('L2-norm of A-A2 = ')\n",
    "pp.pprint(L2_norm_A_sub_A2)"
   ]
  },
  {
   "cell_type": "code",
   "execution_count": null,
   "metadata": {
    "pycharm": {
     "name": "#%%\n"
    }
   },
   "outputs": [],
   "source": [
    "\n"
   ]
  }
 ],
 "metadata": {
  "kernelspec": {
   "display_name": "Python 3",
   "language": "python",
   "name": "python3"
  },
  "language_info": {
   "codemirror_mode": {
    "name": "ipython",
    "version": 3
   },
   "file_extension": ".py",
   "mimetype": "text/x-python",
   "name": "python",
   "nbconvert_exporter": "python",
   "pygments_lexer": "ipython3",
   "version": "3.7.7"
  },
  "pycharm": {
   "stem_cell": {
    "cell_type": "raw",
    "metadata": {
     "collapsed": false
    },
    "source": []
   }
  }
 },
 "nbformat": 4,
 "nbformat_minor": 1
}
