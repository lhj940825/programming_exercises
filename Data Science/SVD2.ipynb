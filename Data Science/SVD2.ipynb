{
 "cells": [
  {
   "cell_type": "markdown",
   "metadata": {},
   "source": [
    "# Exercise 8.1\n",
    "\n",
    "\n",
    "#### 8.1.2) Write a Python routine first that for any matrix A returns the first  4 singular vector. You may usenumpy.linalg.svd() for this"
   ]
  },
  {
   "cell_type": "code",
   "execution_count": 97,
   "metadata": {
    "pycharm": {
     "is_executing": false,
     "name": "#%%\n"
    }
   },
   "outputs": [],
   "source": [
    "import numpy as np\n",
    "import pprint as pp"
   ]
  },
  {
   "cell_type": "code",
   "execution_count": 98,
   "metadata": {
    "pycharm": {
     "is_executing": false,
     "name": "#%%\n"
    }
   },
   "outputs": [],
   "source": [
    "def first(A: np.array):\n",
    "    u, sv, v = np.linalg.svd(A, full_matrices=False) # u, sv, v = left singular vector, singular values, right singular vector\n",
    "    # print(u,sv,v)\n",
    "    return v[0] #return the first singular vector\n",
    "     "
   ]
  },
  {
   "cell_type": "markdown",
   "metadata": {},
   "source": [
    "#### 8.1.3) randomly generate a matrix for at least dimension d= 4and sample  3 size n= 8(to get an n×d-matrix). Apply this routine to the matrix to obtain the first singular vector and apply (i) to also obtain the second\n"
   ]
  },
  {
   "cell_type": "code",
   "execution_count": 99,
   "metadata": {
    "pycharm": {
     "is_executing": false,
     "name": "#%%\n"
    }
   },
   "outputs": [
    {
     "name": "stdout",
     "output_type": "stream",
     "text": [
      "Generated matrix A: \n",
      "array([[0.91328558, 0.32004273, 0.94728329, 0.78185104],\n",
      "       [0.21562772, 0.69043145, 0.30977533, 0.0478615 ],\n",
      "       [0.91327326, 0.64679348, 0.11148267, 0.63425372],\n",
      "       [0.05799109, 0.92588446, 0.9632166 , 0.26026111],\n",
      "       [0.36775821, 0.87204026, 0.46425881, 0.69485968],\n",
      "       [0.27088429, 0.20241193, 0.88388272, 0.37510184],\n",
      "       [0.1218639 , 0.83030021, 0.86817164, 0.10860723],\n",
      "       [0.1286593 , 0.46462597, 0.56858142, 0.61408942]])\n"
     ]
    }
   ],
   "source": [
    "n = 8\n",
    "d = 4\n",
    "A = np.random.sample((8,4)) # generate a matrix randomly\n",
    "print('Generated matrix A: ')\n",
    "pp.pprint(A)\n",
    "v1_A = np.reshape(first(A), (-1,1)) # get the first singular vector of matrix A\n",
    "#print(np.identity(d))\n",
    "#print(np.matmul(v1, v1.T))\n",
    "\n",
    "A_prime = np.matmul(A, np.identity(d) - np.matmul(v1_A,v1_A.T)) \n",
    "v1_A_prime = np.reshape(first(A_prime),(-1,1)) # get the first singular vector of matrix A prime\n",
    "v1_A_prime = v1_A_prime.round(7) # round the vector "
   ]
  },
  {
   "cell_type": "markdown",
   "metadata": {},
   "source": [
    "#### 8.1.4) compare numerically the second singular vector to the vector|v1〉1from the SVD given by numpy"
   ]
  },
  {
   "cell_type": "code",
   "execution_count": 100,
   "metadata": {
    "pycharm": {
     "is_executing": false,
     "name": "#%%\n"
    }
   },
   "outputs": [
    {
     "name": "stdout",
     "output_type": "stream",
     "text": [
      "\n",
      " first singular vector of A prime:\n",
      "array([[-0.7019363],\n",
      "       [ 0.3422305],\n",
      "       [ 0.4221672],\n",
      "       [-0.4603678]])\n",
      "\n",
      " second singular vector of A :\n",
      "array([[-0.7019363],\n",
      "       [ 0.3422305],\n",
      "       [ 0.4221672],\n",
      "       [-0.4603678]])\n",
      "\n",
      "v1_A_prime and v2_A are the same\n"
     ]
    }
   ],
   "source": [
    "u, sv, v = np.linalg.svd(A, full_matrices=False) # u, sv, v = left singular vector, singular values, right singular vector\n",
    "v2_A = np.reshape( v[1] ,(-1,1))\n",
    "v2_A = v2_A.round(7)\n",
    "\n",
    "print('\\n first singular vector of A prime:')\n",
    "pp.pprint(v1_A_prime)\n",
    "print('\\n second singular vector of A :')\n",
    "pp.pprint(v2_A)\n",
    "\n",
    "if (v1_A_prime == v2_A).all() or (v1_A_prime == -1*v2_A).all(): # when both vectors are heading to the same direction or to exact opposite direction \n",
    "    print('\\nv1_A_prime and v2_A are the same')\n",
    "else:\n",
    "    print('\\nv1_A_prime and v2_A are not the same')\n"
   ]
  },
  {
   "cell_type": "markdown",
   "metadata": {},
   "source": [
    "#### 8.1.5) With a method similar to (i), compute also the third singular vector and compare it to the SVD\n"
   ]
  },
  {
   "cell_type": "code",
   "execution_count": 101,
   "metadata": {
    "pycharm": {
     "is_executing": false,
     "name": "#%%\n"
    }
   },
   "outputs": [
    {
     "name": "stdout",
     "output_type": "stream",
     "text": [
      "\n",
      " first singular vector of A two prime:\n",
      "array([[ 0.02616162],\n",
      "       [ 0.74994548],\n",
      "       [-0.65566733],\n",
      "       [-0.08365227]])\n",
      "\n",
      " third singular vector of A :\n",
      "array([[ 0.02616163],\n",
      "       [ 0.74994548],\n",
      "       [-0.65566733],\n",
      "       [-0.08365226]])\n",
      "\n",
      "v1_A_two_prime and v3_A are not the same\n"
     ]
    }
   ],
   "source": [
    "v3_A = np.reshape(v[2],(-1,1)) # second singular vector of matrix A\n",
    "\n",
    "A_two_prime = np.matmul(A, np.identity(d) - np.matmul(v1_A, v1_A.T) - np.matmul(v2_A, v2_A.T)) # compute the matrix A two prime\n",
    "v1_A_two_prime = np.reshape(first(A_two_prime), (-1,1)) # compute the first singular vector of the matrix A two prime\n",
    "\n",
    "\n",
    "print('\\n first singular vector of A two prime:')\n",
    "pp.pprint(v1_A_two_prime)\n",
    "print('\\n third singular vector of A :')\n",
    "pp.pprint(v3_A)\n",
    "\n",
    "if (v1_A_two_prime == v3_A).all() or (v1_A_two_prime == -1*v3_A).all(): # when both vectors are heading to the same direction or to exact opposite direction \n",
    "    print('\\nv1_A_two_prime and v3_A are the same')\n",
    "else:\n",
    "    print('\\nv1_A_two_prime and v3_A are not the same')\n",
    "\n",
    "\n",
    "\n"
   ]
  },
  {
   "cell_type": "code",
   "execution_count": 101,
   "metadata": {
    "pycharm": {
     "is_executing": false,
     "name": "#%%\n"
    }
   },
   "outputs": [],
   "source": []
  },
  {
   "cell_type": "code",
   "execution_count": null,
   "metadata": {
    "pycharm": {
     "name": "#%%\n"
    }
   },
   "outputs": [],
   "source": [
    "\n"
   ]
  }
 ],
 "metadata": {
  "kernelspec": {
   "display_name": "PyCharm (untitled2)",
   "language": "python",
   "name": "pycharm-3e432d29"
  },
  "language_info": {
   "codemirror_mode": {
    "name": "ipython",
    "version": 3
   },
   "file_extension": ".py",
   "mimetype": "text/x-python",
   "name": "python",
   "nbconvert_exporter": "python",
   "pygments_lexer": "ipython3",
   "version": "3.7.7"
  },
  "pycharm": {
   "stem_cell": {
    "cell_type": "raw",
    "metadata": {
     "collapsed": false
    },
    "source": []
   }
  }
 },
 "nbformat": 4,
 "nbformat_minor": 1
}
